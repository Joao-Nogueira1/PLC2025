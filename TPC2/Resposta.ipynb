{
 "cells": [
  {
   "cell_type": "code",
   "execution_count": null,
   "id": "b64c4f8b",
   "metadata": {},
   "outputs": [
    {
     "name": "stdout",
     "output_type": "stream",
     "text": [
      "ola isto é uma imagem <img src=\"http://www.imagem.pt\" alt=\"imagem\"/> e isto é \n",
      "um link<a href=\"http://www.uc.pt\">pagina</a> e lista\n",
      "<ol>\n",
      "<li>abc</li>\n",
      "<li>def</li>\n",
      "<li>ghi</li>\n",
      "</ol>\n",
      "e isto em\n",
      "itálico <i>Texto</i> e isto em bold <b>Texto</b> e \n",
      "por ultimo isto é um cabeçalho <h1>Texto</h1>\n"
     ]
    }
   ],
   "source": [
    "import re\n",
    "\n",
    "texto=\"\"\"ola isto é uma imagem ![imagem](http://www.imagem.pt) e isto é \n",
    "um link [pagina](http://www.uc.pt) e lista\n",
    "1. abc\n",
    "2. def\n",
    "3. ghi\n",
    "e isto em\n",
    "itálico *Texto* e isto em bold **Texto** e \n",
    "por ultimo isto é um cabeçalho # Texto\"\"\"\n",
    "\n",
    "a=re.sub(r\"# {1,3}([a-zA-Z]+)\",r\"<h1>\\1</h1>\", texto)\n",
    "texto=a\n",
    "b=re.sub(r\"\\*\\*([a-zA-Z]+)\\*\\*\",r\"<b>\\1</b>\", texto)\n",
    "texto=b\n",
    "c=re.sub(r\"\\*([a-zA-Z]*)\\*\",r\"<i>\\1</i>\", texto)\n",
    "texto=c\n",
    "m=re.findall(r\"([\\s\\S]+?)((?:\\d+\\. [a-zA-Z ]+\\n?)+)([\\s\\S]+)\",texto)\n",
    "\n",
    "\n",
    "elementos=re.sub(r\"(\\d+\\. )+\",\"\",m[0][1])\n",
    "\n",
    "lista=re.split(r\"\\n\",elementos)\n",
    "\n",
    "for i in range(0,len(lista)-1):\n",
    "    lista[i]=f\"<li>{lista[i]}</li>\\n\"\n",
    "\n",
    "lista.append(f\"</ol>\\n\")\n",
    "lista=[f\"<ol>\\n\"]+lista\n",
    "\n",
    "lista=\"\".join(lista)\n",
    "\n",
    "texto=m[0][0]+lista+m[0][2]\n",
    "\n",
    "\n",
    "d=re.sub(r\"[^!]\\[([a-zA-Z]+)\\]\\((.*)\\)\",r'<a href=\"\\2\">\\1</a>',texto)\n",
    "texto=d\n",
    "e=re.sub(r\"!\\[([a-zA-Z]+)\\]\\((.*)\\)\",r'<img src=\"\\2\" alt=\"\\1\"/>',texto)\n",
    "texto=e\n",
    "\n",
    "print(texto)"
   ]
  }
 ],
 "metadata": {
  "kernelspec": {
   "display_name": "base",
   "language": "python",
   "name": "python3"
  },
  "language_info": {
   "codemirror_mode": {
    "name": "ipython",
    "version": 3
   },
   "file_extension": ".py",
   "mimetype": "text/x-python",
   "name": "python",
   "nbconvert_exporter": "python",
   "pygments_lexer": "ipython3",
   "version": "3.13.5"
  }
 },
 "nbformat": 4,
 "nbformat_minor": 5
}
